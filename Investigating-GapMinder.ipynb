{
 "cells": [
  {
   "cell_type": "markdown",
   "metadata": {},
   "source": [
    "# Investigating GapMinder DataSet\n",
    "\n",
    "## Table of Contents\n",
    "<ul>\n",
    "<li><a href=\"#intro\">Introduction</a></li>\n",
    "<li><a href=\"#wrangling\">Data Wrangling</a></li>\n",
    "<li><a href=\"#eda\">Exploratory Data Analysis</a></li>\n",
    "<li><a href=\"#conclusions\">Conclusions</a></li>\n",
    "</ul>"
   ]
  },
  {
   "cell_type": "markdown",
   "metadata": {},
   "source": [
    "<a id='intro'></a>\n",
    "## Introduction\n",
    "\n",
    "In this project, we will explore gapminder dataset to identify the relationship between countries' Murder/Suicide rate and:\n",
    "a. Unemployment Rate\n",
    "b. GDP per capita\n",
    "c. Income inequality\n",
    "\n",
    "We will be answering the following questions through analyzing the GapMinder Dataset:\n",
    "- Q1: What is the relationship between income inequality and Murder Rate/Suicide Rate?\n",
    "- Q2: What is the relationship between unemployment Rate and Suicide Rate/Murder Rate?\n",
    "- Q3: Which countries are more likely to have high Murder & Suicide Rate?"
   ]
  },
  {
   "cell_type": "code",
   "execution_count": 3,
   "metadata": {},
   "outputs": [],
   "source": [
    "#Loading numpy, pandas, matploblib and Seaborn\n",
    "import numpy as np\n",
    "import pandas as pd\n",
    "import matplotlib.pyplot as plt\n",
    "import seaborn as sns\n",
    "\n",
    "#Using inline matplotlib for visualization\n",
    "%matplotlib inline"
   ]
  },
  {
   "cell_type": "markdown",
   "metadata": {},
   "source": [
    "<a id='wrangling'></a>\n",
    "## Data Wrangling\n",
    "\n",
    "In this section we will be loading the data in our dataframes and exploring it to:\n",
    "   - Check for NaN Values\n",
    "   - Make sure the dataframes have the same format and are easy to be combined\n",
    "   - Combine data\n",
    "\n",
    "### DataSets Used:\n",
    "- Murder rate (per 100K, age adjusted)\n",
    "- Suicide rate (per 100k, age adjusted)\n",
    "- Gini index (Income inequality)\n",
    "- Unemployment Rate\n",
    "- GDP per capita"
   ]
  },
  {
   "cell_type": "code",
   "execution_count": 39,
   "metadata": {},
   "outputs": [
    {
     "data": {
      "text/html": [
       "<div>\n",
       "<style scoped>\n",
       "    .dataframe tbody tr th:only-of-type {\n",
       "        vertical-align: middle;\n",
       "    }\n",
       "\n",
       "    .dataframe tbody tr th {\n",
       "        vertical-align: top;\n",
       "    }\n",
       "\n",
       "    .dataframe thead th {\n",
       "        text-align: right;\n",
       "    }\n",
       "</style>\n",
       "<table border=\"1\" class=\"dataframe\">\n",
       "  <thead>\n",
       "    <tr style=\"text-align: right;\">\n",
       "      <th></th>\n",
       "      <th>country</th>\n",
       "      <th>1950</th>\n",
       "      <th>1951</th>\n",
       "      <th>1952</th>\n",
       "      <th>1953</th>\n",
       "      <th>1954</th>\n",
       "      <th>1955</th>\n",
       "      <th>1956</th>\n",
       "      <th>1957</th>\n",
       "      <th>1958</th>\n",
       "      <th>...</th>\n",
       "      <th>2007</th>\n",
       "      <th>2008</th>\n",
       "      <th>2009</th>\n",
       "      <th>2010</th>\n",
       "      <th>2011</th>\n",
       "      <th>2012</th>\n",
       "      <th>2013</th>\n",
       "      <th>2014</th>\n",
       "      <th>2015</th>\n",
       "      <th>2016</th>\n",
       "    </tr>\n",
       "  </thead>\n",
       "  <tbody>\n",
       "    <tr>\n",
       "      <th>0</th>\n",
       "      <td>Albania</td>\n",
       "      <td>NaN</td>\n",
       "      <td>NaN</td>\n",
       "      <td>NaN</td>\n",
       "      <td>NaN</td>\n",
       "      <td>NaN</td>\n",
       "      <td>NaN</td>\n",
       "      <td>NaN</td>\n",
       "      <td>NaN</td>\n",
       "      <td>NaN</td>\n",
       "      <td>...</td>\n",
       "      <td>3.070</td>\n",
       "      <td>2.96</td>\n",
       "      <td>NaN</td>\n",
       "      <td>2.30</td>\n",
       "      <td>NaN</td>\n",
       "      <td>NaN</td>\n",
       "      <td>NaN</td>\n",
       "      <td>NaN</td>\n",
       "      <td>NaN</td>\n",
       "      <td>NaN</td>\n",
       "    </tr>\n",
       "    <tr>\n",
       "      <th>1</th>\n",
       "      <td>Argentina</td>\n",
       "      <td>NaN</td>\n",
       "      <td>NaN</td>\n",
       "      <td>NaN</td>\n",
       "      <td>NaN</td>\n",
       "      <td>NaN</td>\n",
       "      <td>NaN</td>\n",
       "      <td>NaN</td>\n",
       "      <td>NaN</td>\n",
       "      <td>NaN</td>\n",
       "      <td>...</td>\n",
       "      <td>NaN</td>\n",
       "      <td>NaN</td>\n",
       "      <td>NaN</td>\n",
       "      <td>NaN</td>\n",
       "      <td>NaN</td>\n",
       "      <td>NaN</td>\n",
       "      <td>NaN</td>\n",
       "      <td>NaN</td>\n",
       "      <td>NaN</td>\n",
       "      <td>NaN</td>\n",
       "    </tr>\n",
       "    <tr>\n",
       "      <th>2</th>\n",
       "      <td>Armenia</td>\n",
       "      <td>NaN</td>\n",
       "      <td>NaN</td>\n",
       "      <td>NaN</td>\n",
       "      <td>NaN</td>\n",
       "      <td>NaN</td>\n",
       "      <td>NaN</td>\n",
       "      <td>NaN</td>\n",
       "      <td>NaN</td>\n",
       "      <td>NaN</td>\n",
       "      <td>...</td>\n",
       "      <td>NaN</td>\n",
       "      <td>1.69</td>\n",
       "      <td>NaN</td>\n",
       "      <td>NaN</td>\n",
       "      <td>NaN</td>\n",
       "      <td>1.51</td>\n",
       "      <td>1.10</td>\n",
       "      <td>0.964</td>\n",
       "      <td>1.12</td>\n",
       "      <td>1.01</td>\n",
       "    </tr>\n",
       "    <tr>\n",
       "      <th>3</th>\n",
       "      <td>Antigua and Barbuda</td>\n",
       "      <td>NaN</td>\n",
       "      <td>NaN</td>\n",
       "      <td>NaN</td>\n",
       "      <td>NaN</td>\n",
       "      <td>NaN</td>\n",
       "      <td>NaN</td>\n",
       "      <td>NaN</td>\n",
       "      <td>NaN</td>\n",
       "      <td>NaN</td>\n",
       "      <td>...</td>\n",
       "      <td>NaN</td>\n",
       "      <td>NaN</td>\n",
       "      <td>NaN</td>\n",
       "      <td>NaN</td>\n",
       "      <td>NaN</td>\n",
       "      <td>NaN</td>\n",
       "      <td>NaN</td>\n",
       "      <td>NaN</td>\n",
       "      <td>NaN</td>\n",
       "      <td>NaN</td>\n",
       "    </tr>\n",
       "    <tr>\n",
       "      <th>4</th>\n",
       "      <td>Australia</td>\n",
       "      <td>1.0</td>\n",
       "      <td>1.33</td>\n",
       "      <td>1.46</td>\n",
       "      <td>1.25</td>\n",
       "      <td>1.3</td>\n",
       "      <td>1.39</td>\n",
       "      <td>1.3</td>\n",
       "      <td>1.34</td>\n",
       "      <td>1.54</td>\n",
       "      <td>...</td>\n",
       "      <td>0.978</td>\n",
       "      <td>1.09</td>\n",
       "      <td>1.17</td>\n",
       "      <td>1.01</td>\n",
       "      <td>1.05</td>\n",
       "      <td>1.23</td>\n",
       "      <td>1.06</td>\n",
       "      <td>1.020</td>\n",
       "      <td>1.11</td>\n",
       "      <td>NaN</td>\n",
       "    </tr>\n",
       "  </tbody>\n",
       "</table>\n",
       "<p>5 rows × 68 columns</p>\n",
       "</div>"
      ],
      "text/plain": [
       "               country  1950  1951  1952  1953  1954  1955  1956  1957  1958  \\\n",
       "0              Albania   NaN   NaN   NaN   NaN   NaN   NaN   NaN   NaN   NaN   \n",
       "1            Argentina   NaN   NaN   NaN   NaN   NaN   NaN   NaN   NaN   NaN   \n",
       "2              Armenia   NaN   NaN   NaN   NaN   NaN   NaN   NaN   NaN   NaN   \n",
       "3  Antigua and Barbuda   NaN   NaN   NaN   NaN   NaN   NaN   NaN   NaN   NaN   \n",
       "4            Australia   1.0  1.33  1.46  1.25   1.3  1.39   1.3  1.34  1.54   \n",
       "\n",
       "   ...   2007  2008  2009  2010  2011  2012  2013   2014  2015  2016  \n",
       "0  ...  3.070  2.96   NaN  2.30   NaN   NaN   NaN    NaN   NaN   NaN  \n",
       "1  ...    NaN   NaN   NaN   NaN   NaN   NaN   NaN    NaN   NaN   NaN  \n",
       "2  ...    NaN  1.69   NaN   NaN   NaN  1.51  1.10  0.964  1.12  1.01  \n",
       "3  ...    NaN   NaN   NaN   NaN   NaN   NaN   NaN    NaN   NaN   NaN  \n",
       "4  ...  0.978  1.09  1.17  1.01  1.05  1.23  1.06  1.020  1.11   NaN  \n",
       "\n",
       "[5 rows x 68 columns]"
      ]
     },
     "execution_count": 39,
     "metadata": {},
     "output_type": "execute_result"
    }
   ],
   "source": [
    "#Loading data for murder rate\n",
    "df_murder = pd.read_csv('murder_per_100000_people.csv')\n",
    "df_murder.head()"
   ]
  },
  {
   "cell_type": "code",
   "execution_count": 40,
   "metadata": {},
   "outputs": [
    {
     "data": {
      "text/plain": [
       "Index(['country', '1950', '1951', '1952', '1953', '1954', '1955', '1956',\n",
       "       '1957', '1958', '1959', '1960', '1961', '1962', '1963', '1964', '1965',\n",
       "       '1966', '1967', '1968', '1969', '1970', '1971', '1972', '1973', '1974',\n",
       "       '1975', '1976', '1977', '1978', '1979', '1980', '1981', '1982', '1983',\n",
       "       '1984', '1985', '1986', '1987', '1988', '1989', '1990', '1991', '1992',\n",
       "       '1993', '1994', '1995', '1996', '1997', '1998', '1999', '2000', '2001',\n",
       "       '2002', '2003', '2004', '2005', '2006', '2007', '2008', '2009', '2010',\n",
       "       '2011', '2012', '2013', '2014', '2015', '2016'],\n",
       "      dtype='object')"
      ]
     },
     "execution_count": 40,
     "metadata": {},
     "output_type": "execute_result"
    }
   ],
   "source": [
    "#Checking column headers\n",
    "df_murder.columns"
   ]
  },
  {
   "cell_type": "markdown",
   "metadata": {},
   "source": [
    "It looks like the Murder data are collected up to 2016 which need to be considered while analyzing our data."
   ]
  },
  {
   "cell_type": "code",
   "execution_count": null,
   "metadata": {},
   "outputs": [],
   "source": [
    "#Loading data for suicide rate\n",
    "df_suicide = pd.read_csv('suicide_per_100000_people.csv')\n",
    "df_suicide.head()"
   ]
  },
  {
   "cell_type": "code",
   "execution_count": 41,
   "metadata": {},
   "outputs": [
    {
     "data": {
      "text/plain": [
       "Index(['country', '1950', '1951', '1952', '1953', '1954', '1955', '1956',\n",
       "       '1957', '1958', '1959', '1960', '1961', '1962', '1963', '1964', '1965',\n",
       "       '1966', '1967', '1968', '1969', '1970', '1971', '1972', '1973', '1974',\n",
       "       '1975', '1976', '1977', '1978', '1979', '1980', '1981', '1982', '1983',\n",
       "       '1984', '1985', '1986', '1987', '1988', '1989', '1990', '1991', '1992',\n",
       "       '1993', '1994', '1995', '1996', '1997', '1998', '1999', '2000', '2001',\n",
       "       '2002', '2003', '2004', '2005', '2006', '2007', '2008', '2009', '2010',\n",
       "       '2011', '2012', '2013', '2014', '2015', '2016'],\n",
       "      dtype='object')"
      ]
     },
     "execution_count": 41,
     "metadata": {},
     "output_type": "execute_result"
    }
   ],
   "source": [
    "#Checking Suicide table header\n",
    "df_suicide.columns"
   ]
  },
  {
   "cell_type": "markdown",
   "metadata": {},
   "source": [
    "Same goes for suicide dataframe it has data up to year 2016"
   ]
  },
  {
   "cell_type": "code",
   "execution_count": 15,
   "metadata": {},
   "outputs": [
    {
     "data": {
      "text/html": [
       "<div>\n",
       "<style scoped>\n",
       "    .dataframe tbody tr th:only-of-type {\n",
       "        vertical-align: middle;\n",
       "    }\n",
       "\n",
       "    .dataframe tbody tr th {\n",
       "        vertical-align: top;\n",
       "    }\n",
       "\n",
       "    .dataframe thead th {\n",
       "        text-align: right;\n",
       "    }\n",
       "</style>\n",
       "<table border=\"1\" class=\"dataframe\">\n",
       "  <thead>\n",
       "    <tr style=\"text-align: right;\">\n",
       "      <th></th>\n",
       "      <th>country</th>\n",
       "      <th>1800</th>\n",
       "      <th>1801</th>\n",
       "      <th>1802</th>\n",
       "      <th>1803</th>\n",
       "      <th>1804</th>\n",
       "      <th>1805</th>\n",
       "      <th>1806</th>\n",
       "      <th>1807</th>\n",
       "      <th>1808</th>\n",
       "      <th>...</th>\n",
       "      <th>2041</th>\n",
       "      <th>2042</th>\n",
       "      <th>2043</th>\n",
       "      <th>2044</th>\n",
       "      <th>2045</th>\n",
       "      <th>2046</th>\n",
       "      <th>2047</th>\n",
       "      <th>2048</th>\n",
       "      <th>2049</th>\n",
       "      <th>2050</th>\n",
       "    </tr>\n",
       "  </thead>\n",
       "  <tbody>\n",
       "    <tr>\n",
       "      <th>0</th>\n",
       "      <td>Afghanistan</td>\n",
       "      <td>30.5</td>\n",
       "      <td>30.5</td>\n",
       "      <td>30.5</td>\n",
       "      <td>30.5</td>\n",
       "      <td>30.5</td>\n",
       "      <td>30.5</td>\n",
       "      <td>30.5</td>\n",
       "      <td>30.5</td>\n",
       "      <td>30.5</td>\n",
       "      <td>...</td>\n",
       "      <td>38.2</td>\n",
       "      <td>38.2</td>\n",
       "      <td>38.2</td>\n",
       "      <td>38.2</td>\n",
       "      <td>38.2</td>\n",
       "      <td>38.2</td>\n",
       "      <td>38.2</td>\n",
       "      <td>38.2</td>\n",
       "      <td>38.2</td>\n",
       "      <td>38.2</td>\n",
       "    </tr>\n",
       "    <tr>\n",
       "      <th>1</th>\n",
       "      <td>Angola</td>\n",
       "      <td>57.7</td>\n",
       "      <td>57.7</td>\n",
       "      <td>57.7</td>\n",
       "      <td>57.7</td>\n",
       "      <td>57.7</td>\n",
       "      <td>57.7</td>\n",
       "      <td>57.7</td>\n",
       "      <td>57.7</td>\n",
       "      <td>57.7</td>\n",
       "      <td>...</td>\n",
       "      <td>52.0</td>\n",
       "      <td>52.0</td>\n",
       "      <td>52.0</td>\n",
       "      <td>52.0</td>\n",
       "      <td>52.0</td>\n",
       "      <td>52.0</td>\n",
       "      <td>52.0</td>\n",
       "      <td>52.0</td>\n",
       "      <td>52.0</td>\n",
       "      <td>52.0</td>\n",
       "    </tr>\n",
       "    <tr>\n",
       "      <th>2</th>\n",
       "      <td>Albania</td>\n",
       "      <td>39.9</td>\n",
       "      <td>39.9</td>\n",
       "      <td>39.9</td>\n",
       "      <td>39.9</td>\n",
       "      <td>39.9</td>\n",
       "      <td>39.9</td>\n",
       "      <td>39.9</td>\n",
       "      <td>39.9</td>\n",
       "      <td>39.9</td>\n",
       "      <td>...</td>\n",
       "      <td>33.7</td>\n",
       "      <td>33.7</td>\n",
       "      <td>33.7</td>\n",
       "      <td>33.7</td>\n",
       "      <td>33.7</td>\n",
       "      <td>33.7</td>\n",
       "      <td>33.7</td>\n",
       "      <td>33.7</td>\n",
       "      <td>33.7</td>\n",
       "      <td>33.7</td>\n",
       "    </tr>\n",
       "    <tr>\n",
       "      <th>3</th>\n",
       "      <td>Andorra</td>\n",
       "      <td>42.5</td>\n",
       "      <td>42.5</td>\n",
       "      <td>42.5</td>\n",
       "      <td>42.5</td>\n",
       "      <td>42.5</td>\n",
       "      <td>42.5</td>\n",
       "      <td>42.5</td>\n",
       "      <td>42.5</td>\n",
       "      <td>42.5</td>\n",
       "      <td>...</td>\n",
       "      <td>35.0</td>\n",
       "      <td>35.0</td>\n",
       "      <td>35.0</td>\n",
       "      <td>35.0</td>\n",
       "      <td>35.0</td>\n",
       "      <td>35.0</td>\n",
       "      <td>35.0</td>\n",
       "      <td>35.0</td>\n",
       "      <td>35.0</td>\n",
       "      <td>35.0</td>\n",
       "    </tr>\n",
       "    <tr>\n",
       "      <th>4</th>\n",
       "      <td>United Arab Emirates</td>\n",
       "      <td>39.8</td>\n",
       "      <td>39.8</td>\n",
       "      <td>39.8</td>\n",
       "      <td>39.8</td>\n",
       "      <td>39.8</td>\n",
       "      <td>39.8</td>\n",
       "      <td>39.8</td>\n",
       "      <td>39.7</td>\n",
       "      <td>39.7</td>\n",
       "      <td>...</td>\n",
       "      <td>25.9</td>\n",
       "      <td>25.9</td>\n",
       "      <td>25.9</td>\n",
       "      <td>25.9</td>\n",
       "      <td>25.9</td>\n",
       "      <td>25.9</td>\n",
       "      <td>25.9</td>\n",
       "      <td>25.9</td>\n",
       "      <td>25.9</td>\n",
       "      <td>25.9</td>\n",
       "    </tr>\n",
       "  </tbody>\n",
       "</table>\n",
       "<p>5 rows × 252 columns</p>\n",
       "</div>"
      ],
      "text/plain": [
       "                country  1800  1801  1802  1803  1804  1805  1806  1807  1808  \\\n",
       "0           Afghanistan  30.5  30.5  30.5  30.5  30.5  30.5  30.5  30.5  30.5   \n",
       "1                Angola  57.7  57.7  57.7  57.7  57.7  57.7  57.7  57.7  57.7   \n",
       "2               Albania  39.9  39.9  39.9  39.9  39.9  39.9  39.9  39.9  39.9   \n",
       "3               Andorra  42.5  42.5  42.5  42.5  42.5  42.5  42.5  42.5  42.5   \n",
       "4  United Arab Emirates  39.8  39.8  39.8  39.8  39.8  39.8  39.8  39.7  39.7   \n",
       "\n",
       "   ...  2041  2042  2043  2044  2045  2046  2047  2048  2049  2050  \n",
       "0  ...  38.2  38.2  38.2  38.2  38.2  38.2  38.2  38.2  38.2  38.2  \n",
       "1  ...  52.0  52.0  52.0  52.0  52.0  52.0  52.0  52.0  52.0  52.0  \n",
       "2  ...  33.7  33.7  33.7  33.7  33.7  33.7  33.7  33.7  33.7  33.7  \n",
       "3  ...  35.0  35.0  35.0  35.0  35.0  35.0  35.0  35.0  35.0  35.0  \n",
       "4  ...  25.9  25.9  25.9  25.9  25.9  25.9  25.9  25.9  25.9  25.9  \n",
       "\n",
       "[5 rows x 252 columns]"
      ]
     },
     "execution_count": 15,
     "metadata": {},
     "output_type": "execute_result"
    }
   ],
   "source": [
    "#loading Income Inequality\n",
    "df_gini = pd.read_csv('gini.csv')\n",
    "df_gini.head()"
   ]
  },
  {
   "cell_type": "code",
   "execution_count": 42,
   "metadata": {},
   "outputs": [
    {
     "data": {
      "text/plain": [
       "Index(['country', '1800', '1801', '1802', '1803', '1804', '1805', '1806',\n",
       "       '1807', '1808',\n",
       "       ...\n",
       "       '2041', '2042', '2043', '2044', '2045', '2046', '2047', '2048', '2049',\n",
       "       '2050'],\n",
       "      dtype='object', length=252)"
      ]
     },
     "execution_count": 42,
     "metadata": {},
     "output_type": "execute_result"
    }
   ],
   "source": [
    "#Checking Income Inequality dataframe header\n",
    "df_gini.columns"
   ]
  },
  {
   "cell_type": "code",
   "execution_count": 28,
   "metadata": {},
   "outputs": [
    {
     "data": {
      "text/html": [
       "<div>\n",
       "<style scoped>\n",
       "    .dataframe tbody tr th:only-of-type {\n",
       "        vertical-align: middle;\n",
       "    }\n",
       "\n",
       "    .dataframe tbody tr th {\n",
       "        vertical-align: top;\n",
       "    }\n",
       "\n",
       "    .dataframe thead th {\n",
       "        text-align: right;\n",
       "    }\n",
       "</style>\n",
       "<table border=\"1\" class=\"dataframe\">\n",
       "  <thead>\n",
       "    <tr style=\"text-align: right;\">\n",
       "      <th></th>\n",
       "      <th>country</th>\n",
       "      <th>1948</th>\n",
       "      <th>1949</th>\n",
       "      <th>1950</th>\n",
       "      <th>1951</th>\n",
       "      <th>1952</th>\n",
       "      <th>1953</th>\n",
       "      <th>1954</th>\n",
       "      <th>1955</th>\n",
       "      <th>1956</th>\n",
       "      <th>...</th>\n",
       "      <th>2011</th>\n",
       "      <th>2012</th>\n",
       "      <th>2013</th>\n",
       "      <th>2014</th>\n",
       "      <th>2015</th>\n",
       "      <th>2016</th>\n",
       "      <th>2017</th>\n",
       "      <th>2018</th>\n",
       "      <th>2019</th>\n",
       "      <th>2020</th>\n",
       "    </tr>\n",
       "  </thead>\n",
       "  <tbody>\n",
       "    <tr>\n",
       "      <th>0</th>\n",
       "      <td>Aruba</td>\n",
       "      <td>NaN</td>\n",
       "      <td>NaN</td>\n",
       "      <td>NaN</td>\n",
       "      <td>NaN</td>\n",
       "      <td>NaN</td>\n",
       "      <td>NaN</td>\n",
       "      <td>NaN</td>\n",
       "      <td>NaN</td>\n",
       "      <td>NaN</td>\n",
       "      <td>...</td>\n",
       "      <td>NaN</td>\n",
       "      <td>NaN</td>\n",
       "      <td>NaN</td>\n",
       "      <td>NaN</td>\n",
       "      <td>NaN</td>\n",
       "      <td>NaN</td>\n",
       "      <td>NaN</td>\n",
       "      <td>NaN</td>\n",
       "      <td>NaN</td>\n",
       "      <td>NaN</td>\n",
       "    </tr>\n",
       "    <tr>\n",
       "      <th>1</th>\n",
       "      <td>Afghanistan</td>\n",
       "      <td>NaN</td>\n",
       "      <td>NaN</td>\n",
       "      <td>NaN</td>\n",
       "      <td>NaN</td>\n",
       "      <td>NaN</td>\n",
       "      <td>NaN</td>\n",
       "      <td>NaN</td>\n",
       "      <td>NaN</td>\n",
       "      <td>NaN</td>\n",
       "      <td>...</td>\n",
       "      <td>NaN</td>\n",
       "      <td>1.09</td>\n",
       "      <td>NaN</td>\n",
       "      <td>6.73</td>\n",
       "      <td>NaN</td>\n",
       "      <td>NaN</td>\n",
       "      <td>8.4</td>\n",
       "      <td>NaN</td>\n",
       "      <td>NaN</td>\n",
       "      <td>9.89</td>\n",
       "    </tr>\n",
       "    <tr>\n",
       "      <th>2</th>\n",
       "      <td>Angola</td>\n",
       "      <td>NaN</td>\n",
       "      <td>NaN</td>\n",
       "      <td>NaN</td>\n",
       "      <td>NaN</td>\n",
       "      <td>NaN</td>\n",
       "      <td>NaN</td>\n",
       "      <td>NaN</td>\n",
       "      <td>NaN</td>\n",
       "      <td>NaN</td>\n",
       "      <td>...</td>\n",
       "      <td>4.25</td>\n",
       "      <td>NaN</td>\n",
       "      <td>NaN</td>\n",
       "      <td>8.44</td>\n",
       "      <td>NaN</td>\n",
       "      <td>NaN</td>\n",
       "      <td>NaN</td>\n",
       "      <td>NaN</td>\n",
       "      <td>NaN</td>\n",
       "      <td>NaN</td>\n",
       "    </tr>\n",
       "    <tr>\n",
       "      <th>3</th>\n",
       "      <td>Anguilla</td>\n",
       "      <td>NaN</td>\n",
       "      <td>NaN</td>\n",
       "      <td>NaN</td>\n",
       "      <td>NaN</td>\n",
       "      <td>NaN</td>\n",
       "      <td>NaN</td>\n",
       "      <td>NaN</td>\n",
       "      <td>NaN</td>\n",
       "      <td>NaN</td>\n",
       "      <td>...</td>\n",
       "      <td>NaN</td>\n",
       "      <td>NaN</td>\n",
       "      <td>NaN</td>\n",
       "      <td>NaN</td>\n",
       "      <td>NaN</td>\n",
       "      <td>NaN</td>\n",
       "      <td>NaN</td>\n",
       "      <td>NaN</td>\n",
       "      <td>NaN</td>\n",
       "      <td>NaN</td>\n",
       "    </tr>\n",
       "    <tr>\n",
       "      <th>4</th>\n",
       "      <td>Albania</td>\n",
       "      <td>NaN</td>\n",
       "      <td>NaN</td>\n",
       "      <td>NaN</td>\n",
       "      <td>NaN</td>\n",
       "      <td>NaN</td>\n",
       "      <td>NaN</td>\n",
       "      <td>NaN</td>\n",
       "      <td>NaN</td>\n",
       "      <td>NaN</td>\n",
       "      <td>...</td>\n",
       "      <td>12.20</td>\n",
       "      <td>12.20</td>\n",
       "      <td>15.3</td>\n",
       "      <td>16.40</td>\n",
       "      <td>15.5</td>\n",
       "      <td>13.9</td>\n",
       "      <td>12.5</td>\n",
       "      <td>11.2</td>\n",
       "      <td>10.6</td>\n",
       "      <td>NaN</td>\n",
       "    </tr>\n",
       "  </tbody>\n",
       "</table>\n",
       "<p>5 rows × 74 columns</p>\n",
       "</div>"
      ],
      "text/plain": [
       "       country  1948  1949  1950  1951  1952  1953  1954  1955  1956  ...  \\\n",
       "0        Aruba   NaN   NaN   NaN   NaN   NaN   NaN   NaN   NaN   NaN  ...   \n",
       "1  Afghanistan   NaN   NaN   NaN   NaN   NaN   NaN   NaN   NaN   NaN  ...   \n",
       "2       Angola   NaN   NaN   NaN   NaN   NaN   NaN   NaN   NaN   NaN  ...   \n",
       "3     Anguilla   NaN   NaN   NaN   NaN   NaN   NaN   NaN   NaN   NaN  ...   \n",
       "4      Albania   NaN   NaN   NaN   NaN   NaN   NaN   NaN   NaN   NaN  ...   \n",
       "\n",
       "    2011   2012  2013   2014  2015  2016  2017  2018  2019  2020  \n",
       "0    NaN    NaN   NaN    NaN   NaN   NaN   NaN   NaN   NaN   NaN  \n",
       "1    NaN   1.09   NaN   6.73   NaN   NaN   8.4   NaN   NaN  9.89  \n",
       "2   4.25    NaN   NaN   8.44   NaN   NaN   NaN   NaN   NaN   NaN  \n",
       "3    NaN    NaN   NaN    NaN   NaN   NaN   NaN   NaN   NaN   NaN  \n",
       "4  12.20  12.20  15.3  16.40  15.5  13.9  12.5  11.2  10.6   NaN  \n",
       "\n",
       "[5 rows x 74 columns]"
      ]
     },
     "execution_count": 28,
     "metadata": {},
     "output_type": "execute_result"
    }
   ],
   "source": [
    "#Loading Unemployment Rate for age group 25-54\n",
    "df_unemployment = pd.read_csv('aged_25_54_unemployment_rate_percent.csv')\n",
    "df_unemployment.head()"
   ]
  },
  {
   "cell_type": "code",
   "execution_count": 43,
   "metadata": {},
   "outputs": [
    {
     "data": {
      "text/plain": [
       "Index(['country', '1948', '1949', '1950', '1951', '1952', '1953', '1954',\n",
       "       '1955', '1956', '1957', '1958', '1959', '1960', '1961', '1962', '1963',\n",
       "       '1964', '1965', '1966', '1967', '1968', '1969', '1970', '1971', '1972',\n",
       "       '1973', '1974', '1975', '1976', '1977', '1978', '1979', '1980', '1981',\n",
       "       '1982', '1983', '1984', '1985', '1986', '1987', '1988', '1989', '1990',\n",
       "       '1991', '1992', '1993', '1994', '1995', '1996', '1997', '1998', '1999',\n",
       "       '2000', '2001', '2002', '2003', '2004', '2005', '2006', '2007', '2008',\n",
       "       '2009', '2010', '2011', '2012', '2013', '2014', '2015', '2016', '2017',\n",
       "       '2018', '2019', '2020'],\n",
       "      dtype='object')"
      ]
     },
     "execution_count": 43,
     "metadata": {},
     "output_type": "execute_result"
    }
   ],
   "source": [
    "#Checking Unemployment rate dataframe header\n",
    "df_unemployment.columns"
   ]
  },
  {
   "cell_type": "code",
   "execution_count": 44,
   "metadata": {},
   "outputs": [
    {
     "data": {
      "text/html": [
       "<div>\n",
       "<style scoped>\n",
       "    .dataframe tbody tr th:only-of-type {\n",
       "        vertical-align: middle;\n",
       "    }\n",
       "\n",
       "    .dataframe tbody tr th {\n",
       "        vertical-align: top;\n",
       "    }\n",
       "\n",
       "    .dataframe thead th {\n",
       "        text-align: right;\n",
       "    }\n",
       "</style>\n",
       "<table border=\"1\" class=\"dataframe\">\n",
       "  <thead>\n",
       "    <tr style=\"text-align: right;\">\n",
       "      <th></th>\n",
       "      <th>country</th>\n",
       "      <th>1960</th>\n",
       "      <th>1961</th>\n",
       "      <th>1962</th>\n",
       "      <th>1963</th>\n",
       "      <th>1964</th>\n",
       "      <th>1965</th>\n",
       "      <th>1966</th>\n",
       "      <th>1967</th>\n",
       "      <th>1968</th>\n",
       "      <th>...</th>\n",
       "      <th>2011</th>\n",
       "      <th>2012</th>\n",
       "      <th>2013</th>\n",
       "      <th>2014</th>\n",
       "      <th>2015</th>\n",
       "      <th>2016</th>\n",
       "      <th>2017</th>\n",
       "      <th>2018</th>\n",
       "      <th>2019</th>\n",
       "      <th>2020</th>\n",
       "    </tr>\n",
       "  </thead>\n",
       "  <tbody>\n",
       "    <tr>\n",
       "      <th>0</th>\n",
       "      <td>Aruba</td>\n",
       "      <td>NaN</td>\n",
       "      <td>NaN</td>\n",
       "      <td>NaN</td>\n",
       "      <td>NaN</td>\n",
       "      <td>NaN</td>\n",
       "      <td>NaN</td>\n",
       "      <td>NaN</td>\n",
       "      <td>NaN</td>\n",
       "      <td>NaN</td>\n",
       "      <td>...</td>\n",
       "      <td>26.6k</td>\n",
       "      <td>26.2k</td>\n",
       "      <td>27.1k</td>\n",
       "      <td>27k</td>\n",
       "      <td>28.4k</td>\n",
       "      <td>28.8k</td>\n",
       "      <td>29.3k</td>\n",
       "      <td>NaN</td>\n",
       "      <td>NaN</td>\n",
       "      <td>NaN</td>\n",
       "    </tr>\n",
       "    <tr>\n",
       "      <th>1</th>\n",
       "      <td>Afghanistan</td>\n",
       "      <td>NaN</td>\n",
       "      <td>NaN</td>\n",
       "      <td>NaN</td>\n",
       "      <td>NaN</td>\n",
       "      <td>NaN</td>\n",
       "      <td>NaN</td>\n",
       "      <td>NaN</td>\n",
       "      <td>NaN</td>\n",
       "      <td>NaN</td>\n",
       "      <td>...</td>\n",
       "      <td>512</td>\n",
       "      <td>558</td>\n",
       "      <td>569</td>\n",
       "      <td>565</td>\n",
       "      <td>556</td>\n",
       "      <td>553</td>\n",
       "      <td>553</td>\n",
       "      <td>547</td>\n",
       "      <td>555</td>\n",
       "      <td>530</td>\n",
       "    </tr>\n",
       "    <tr>\n",
       "      <th>2</th>\n",
       "      <td>Angola</td>\n",
       "      <td>NaN</td>\n",
       "      <td>NaN</td>\n",
       "      <td>NaN</td>\n",
       "      <td>NaN</td>\n",
       "      <td>NaN</td>\n",
       "      <td>NaN</td>\n",
       "      <td>NaN</td>\n",
       "      <td>NaN</td>\n",
       "      <td>NaN</td>\n",
       "      <td>...</td>\n",
       "      <td>3980</td>\n",
       "      <td>4170</td>\n",
       "      <td>4220</td>\n",
       "      <td>4270</td>\n",
       "      <td>4170</td>\n",
       "      <td>3920</td>\n",
       "      <td>3790</td>\n",
       "      <td>3600</td>\n",
       "      <td>3460</td>\n",
       "      <td>3170</td>\n",
       "    </tr>\n",
       "    <tr>\n",
       "      <th>3</th>\n",
       "      <td>Albania</td>\n",
       "      <td>NaN</td>\n",
       "      <td>NaN</td>\n",
       "      <td>NaN</td>\n",
       "      <td>NaN</td>\n",
       "      <td>NaN</td>\n",
       "      <td>NaN</td>\n",
       "      <td>NaN</td>\n",
       "      <td>NaN</td>\n",
       "      <td>NaN</td>\n",
       "      <td>...</td>\n",
       "      <td>3680</td>\n",
       "      <td>3740</td>\n",
       "      <td>3780</td>\n",
       "      <td>3860</td>\n",
       "      <td>3950</td>\n",
       "      <td>4090</td>\n",
       "      <td>4250</td>\n",
       "      <td>4430</td>\n",
       "      <td>4540</td>\n",
       "      <td>4390</td>\n",
       "    </tr>\n",
       "    <tr>\n",
       "      <th>4</th>\n",
       "      <td>Andorra</td>\n",
       "      <td>NaN</td>\n",
       "      <td>NaN</td>\n",
       "      <td>NaN</td>\n",
       "      <td>NaN</td>\n",
       "      <td>NaN</td>\n",
       "      <td>NaN</td>\n",
       "      <td>NaN</td>\n",
       "      <td>NaN</td>\n",
       "      <td>NaN</td>\n",
       "      <td>...</td>\n",
       "      <td>35k</td>\n",
       "      <td>33.8k</td>\n",
       "      <td>33.2k</td>\n",
       "      <td>34.7k</td>\n",
       "      <td>35.8k</td>\n",
       "      <td>37.4k</td>\n",
       "      <td>37.7k</td>\n",
       "      <td>38.3k</td>\n",
       "      <td>39k</td>\n",
       "      <td>34.3k</td>\n",
       "    </tr>\n",
       "  </tbody>\n",
       "</table>\n",
       "<p>5 rows × 62 columns</p>\n",
       "</div>"
      ],
      "text/plain": [
       "       country 1960 1961 1962 1963 1964 1965 1966 1967 1968  ...   2011  \\\n",
       "0        Aruba  NaN  NaN  NaN  NaN  NaN  NaN  NaN  NaN  NaN  ...  26.6k   \n",
       "1  Afghanistan  NaN  NaN  NaN  NaN  NaN  NaN  NaN  NaN  NaN  ...    512   \n",
       "2       Angola  NaN  NaN  NaN  NaN  NaN  NaN  NaN  NaN  NaN  ...   3980   \n",
       "3      Albania  NaN  NaN  NaN  NaN  NaN  NaN  NaN  NaN  NaN  ...   3680   \n",
       "4      Andorra  NaN  NaN  NaN  NaN  NaN  NaN  NaN  NaN  NaN  ...    35k   \n",
       "\n",
       "    2012   2013   2014   2015   2016   2017   2018  2019   2020  \n",
       "0  26.2k  27.1k    27k  28.4k  28.8k  29.3k    NaN   NaN    NaN  \n",
       "1    558    569    565    556    553    553    547   555    530  \n",
       "2   4170   4220   4270   4170   3920   3790   3600  3460   3170  \n",
       "3   3740   3780   3860   3950   4090   4250   4430  4540   4390  \n",
       "4  33.8k  33.2k  34.7k  35.8k  37.4k  37.7k  38.3k   39k  34.3k  \n",
       "\n",
       "[5 rows x 62 columns]"
      ]
     },
     "execution_count": 44,
     "metadata": {},
     "output_type": "execute_result"
    }
   ],
   "source": [
    "#Loading GDP Per Capita, US Inflation Adjusted\n",
    "df_gdp = pd.read_csv('gdppercapita_us_inflation_adjusted.csv')\n",
    "df_gdp.head()"
   ]
  },
  {
   "cell_type": "code",
   "execution_count": 45,
   "metadata": {},
   "outputs": [
    {
     "data": {
      "text/plain": [
       "Index(['country', '1960', '1961', '1962', '1963', '1964', '1965', '1966',\n",
       "       '1967', '1968', '1969', '1970', '1971', '1972', '1973', '1974', '1975',\n",
       "       '1976', '1977', '1978', '1979', '1980', '1981', '1982', '1983', '1984',\n",
       "       '1985', '1986', '1987', '1988', '1989', '1990', '1991', '1992', '1993',\n",
       "       '1994', '1995', '1996', '1997', '1998', '1999', '2000', '2001', '2002',\n",
       "       '2003', '2004', '2005', '2006', '2007', '2008', '2009', '2010', '2011',\n",
       "       '2012', '2013', '2014', '2015', '2016', '2017', '2018', '2019', '2020'],\n",
       "      dtype='object')"
      ]
     },
     "execution_count": 45,
     "metadata": {},
     "output_type": "execute_result"
    }
   ],
   "source": [
    "#Checking GDP dataframe header\n",
    "df_gdp.columns"
   ]
  },
  {
   "cell_type": "markdown",
   "metadata": {},
   "source": [
    "After looking into the data we have, it looks like our data has the following characterisitcs:\n",
    "- Murder and Suicide Rate dataframes has data up to year 2016\n",
    "- Income Inequality dataframe has data up to 2050\n",
    "- Unemployment Rate and GDP dataframes has data up to 2020\n",
    "\n",
    "This indicates that the most common year between all dataframes we have is up to year 2016."
   ]
  },
  {
   "cell_type": "markdown",
   "metadata": {},
   "source": [
    "### Data Cleaning\n",
    "In this project we will be analyzing the data mentioned above for all countries but within a specific year (2016) before the pandemic.\n",
    "\n",
    "So basically, in this section we will do the following:\n",
    "- Filter all dataframes by year 2016\n",
    "- Drop NaN values\n",
    "- Merge the data into one dataframe if needed"
   ]
  },
  {
   "cell_type": "code",
   "execution_count": 86,
   "metadata": {},
   "outputs": [
    {
     "name": "stdout",
     "output_type": "stream",
     "text": [
      "                 2016\n",
      "country              \n",
      "Armenia         1.010\n",
      "Austria         0.417\n",
      "Cyprus          1.230\n",
      "Czech Republic  0.467\n",
      "Croatia         1.000\n",
      "Hungary         0.809\n",
      "Iceland         0.246\n",
      "Lithuania       3.050\n",
      "Moldova         4.240\n",
      "Mongolia        3.980\n",
      "Mauritius       1.450\n",
      "Netherlands     0.567\n",
      "Romania         1.190\n",
      "Thailand        2.580\n"
     ]
    }
   ],
   "source": [
    "''' Filtering murder data by year 2016 and setting country column as the index column'''\n",
    "df_murder_2016 = df_murder.loc[:,['country','2016']]\n",
    "# Drop Null Values\n",
    "df_murder_2016.dropna(inplace=True)\n",
    "\n",
    "#Setting country as index column\n",
    "df_murder_2016.set_index('country', inplace=True)\n",
    "print(df_murder_2016)\n",
    "\n"
   ]
  },
  {
   "cell_type": "code",
   "execution_count": 88,
   "metadata": {},
   "outputs": [
    {
     "name": "stdout",
     "output_type": "stream",
     "text": [
      "                 2016\n",
      "country              \n",
      "Armenia          1.85\n",
      "Austria          9.75\n",
      "Cyprus           3.75\n",
      "Czech Republic  10.00\n",
      "Croatia         11.40\n",
      "Hungary         12.70\n",
      "Iceland         11.20\n",
      "Lithuania       22.90\n",
      "Moldova         13.00\n",
      "Mongolia        14.60\n",
      "Mauritius        7.53\n",
      "Netherlands      8.88\n",
      "Romania          7.70\n",
      "Thailand         5.54\n"
     ]
    }
   ],
   "source": [
    "''' Filtering suicide data by year 2016 and setting country column as the index column'''\n",
    "df_suicide_2016 = df_suicide.loc[:,['country','2016']]\n",
    "# Drop NaN\n",
    "df_suicide_2016.dropna(inplace=True)\n",
    "\n",
    "#Setting country as index column\n",
    "df_suicide_2016.set_index('country', inplace=True)\n",
    "print(df_suicide_2016)"
   ]
  },
  {
   "cell_type": "code",
   "execution_count": 89,
   "metadata": {},
   "outputs": [
    {
     "name": "stdout",
     "output_type": "stream",
     "text": [
      "                      2016\n",
      "country                   \n",
      "Afghanistan           37.7\n",
      "Angola                49.4\n",
      "Albania               33.7\n",
      "Andorra               35.2\n",
      "United Arab Emirates  28.4\n",
      "...                    ...\n",
      "Samoa                 38.7\n",
      "Yemen                 36.7\n",
      "South Africa          63.0\n",
      "Zambia                57.1\n",
      "Zimbabwe              44.1\n",
      "\n",
      "[197 rows x 1 columns]\n"
     ]
    }
   ],
   "source": [
    "''' Filtering Income Inequality data by year 2016 and setting country column as the index column'''\n",
    "df_gini_2016 = df_gini.loc[:,['country','2016']]\n",
    "# Drop NaN\n",
    "df_gini_2016.dropna(inplace=True)\n",
    "\n",
    "#Setting country as index column\n",
    "df_gini_2016.set_index('country', inplace=True)\n",
    "print(df_gini_2016)"
   ]
  },
  {
   "cell_type": "code",
   "execution_count": 90,
   "metadata": {},
   "outputs": [
    {
     "name": "stdout",
     "output_type": "stream",
     "text": [
      "                       2016\n",
      "country                    \n",
      "Albania               13.90\n",
      "United Arab Emirates   1.18\n",
      "Armenia               16.80\n",
      "Australia              4.50\n",
      "Austria                5.42\n",
      "...                     ...\n",
      "Uruguay                5.42\n",
      "United States          4.15\n",
      "Venezuela              4.63\n",
      "Vietnam                1.13\n",
      "South Africa          24.10\n",
      "\n",
      "[116 rows x 1 columns]\n"
     ]
    }
   ],
   "source": [
    "''' Filtering Unemployment Rate data by year 2016 and setting country column as the index column'''\n",
    "df_unemployment_2016 = df_unemployment.loc[:,['country','2016']]\n",
    "# Drop NaN\n",
    "df_unemployment_2016.dropna(inplace=True)\n",
    "\n",
    "#Setting country as index column\n",
    "df_unemployment_2016.set_index('country', inplace=True)\n",
    "print(df_unemployment_2016)"
   ]
  },
  {
   "cell_type": "code",
   "execution_count": 91,
   "metadata": {},
   "outputs": [
    {
     "name": "stdout",
     "output_type": "stream",
     "text": [
      "               2016\n",
      "country            \n",
      "Aruba         28.8k\n",
      "Afghanistan     553\n",
      "Angola         3920\n",
      "Albania        4090\n",
      "Andorra       37.4k\n",
      "...             ...\n",
      "Samoa          4380\n",
      "Yemen          1420\n",
      "South Africa   6210\n",
      "Zambia         1350\n",
      "Zimbabwe       1430\n",
      "\n",
      "[205 rows x 1 columns]\n"
     ]
    }
   ],
   "source": [
    "''' Filtering suicide data by year 2016 and setting country column as the index column'''\n",
    "df_gdp_2016 = df_gdp.loc[:,['country','2016']]\n",
    "# Drop NaN\n",
    "df_gdp_2016.dropna(inplace=True)\n",
    "\n",
    "#Setting country as index column\n",
    "df_gdp_2016.set_index('country', inplace=True)\n",
    "print(df_gdp_2016)"
   ]
  },
  {
   "cell_type": "markdown",
   "metadata": {},
   "source": [
    "Since the GDP data has characters (k), this indicates the GDP data is of type string. We will need to convert that into float to match the rest of the data types we have within our dataframes."
   ]
  },
  {
   "cell_type": "code",
   "execution_count": 268,
   "metadata": {},
   "outputs": [
    {
     "data": {
      "text/html": [
       "<div>\n",
       "<style scoped>\n",
       "    .dataframe tbody tr th:only-of-type {\n",
       "        vertical-align: middle;\n",
       "    }\n",
       "\n",
       "    .dataframe tbody tr th {\n",
       "        vertical-align: top;\n",
       "    }\n",
       "\n",
       "    .dataframe thead th {\n",
       "        text-align: right;\n",
       "    }\n",
       "</style>\n",
       "<table border=\"1\" class=\"dataframe\">\n",
       "  <thead>\n",
       "    <tr style=\"text-align: right;\">\n",
       "      <th></th>\n",
       "      <th>2016</th>\n",
       "    </tr>\n",
       "    <tr>\n",
       "      <th>country</th>\n",
       "      <th></th>\n",
       "    </tr>\n",
       "  </thead>\n",
       "  <tbody>\n",
       "    <tr>\n",
       "      <th>Aruba</th>\n",
       "      <td>28800.0</td>\n",
       "    </tr>\n",
       "    <tr>\n",
       "      <th>Afghanistan</th>\n",
       "      <td>553.0</td>\n",
       "    </tr>\n",
       "    <tr>\n",
       "      <th>Angola</th>\n",
       "      <td>3920.0</td>\n",
       "    </tr>\n",
       "    <tr>\n",
       "      <th>Albania</th>\n",
       "      <td>4090.0</td>\n",
       "    </tr>\n",
       "    <tr>\n",
       "      <th>Andorra</th>\n",
       "      <td>37400.0</td>\n",
       "    </tr>\n",
       "    <tr>\n",
       "      <th>...</th>\n",
       "      <td>...</td>\n",
       "    </tr>\n",
       "    <tr>\n",
       "      <th>Samoa</th>\n",
       "      <td>4380.0</td>\n",
       "    </tr>\n",
       "    <tr>\n",
       "      <th>Yemen</th>\n",
       "      <td>1420.0</td>\n",
       "    </tr>\n",
       "    <tr>\n",
       "      <th>South Africa</th>\n",
       "      <td>6210.0</td>\n",
       "    </tr>\n",
       "    <tr>\n",
       "      <th>Zambia</th>\n",
       "      <td>1350.0</td>\n",
       "    </tr>\n",
       "    <tr>\n",
       "      <th>Zimbabwe</th>\n",
       "      <td>1430.0</td>\n",
       "    </tr>\n",
       "  </tbody>\n",
       "</table>\n",
       "<p>205 rows × 1 columns</p>\n",
       "</div>"
      ],
      "text/plain": [
       "                 2016\n",
       "country              \n",
       "Aruba         28800.0\n",
       "Afghanistan     553.0\n",
       "Angola         3920.0\n",
       "Albania        4090.0\n",
       "Andorra       37400.0\n",
       "...               ...\n",
       "Samoa          4380.0\n",
       "Yemen          1420.0\n",
       "South Africa   6210.0\n",
       "Zambia         1350.0\n",
       "Zimbabwe       1430.0\n",
       "\n",
       "[205 rows x 1 columns]"
      ]
     },
     "execution_count": 268,
     "metadata": {},
     "output_type": "execute_result"
    }
   ],
   "source": [
    "#Replacing k character with its numeric value then converting it into float\n",
    "df_gdp_2016['2016'] = df_gdp_2016['2016'].replace({'k': '*1e3'}, regex=True).map(pd.eval).astype(float)\n",
    "df_gdp_2016"
   ]
  },
  {
   "cell_type": "markdown",
   "metadata": {},
   "source": [
    "After filtering the data we have and setting the country to be the index for all dataframes, now its time to combine our data. I will combine the Murder and Suicide rate parameters as they are the main parameters we are trying to analyze and explore against different factors such as: Unemployment Rate, Income Inequality and GDP per capita"
   ]
  },
  {
   "cell_type": "code",
   "execution_count": 98,
   "metadata": {},
   "outputs": [
    {
     "data": {
      "text/html": [
       "<div>\n",
       "<style scoped>\n",
       "    .dataframe tbody tr th:only-of-type {\n",
       "        vertical-align: middle;\n",
       "    }\n",
       "\n",
       "    .dataframe tbody tr th {\n",
       "        vertical-align: top;\n",
       "    }\n",
       "\n",
       "    .dataframe thead th {\n",
       "        text-align: right;\n",
       "    }\n",
       "</style>\n",
       "<table border=\"1\" class=\"dataframe\">\n",
       "  <thead>\n",
       "    <tr style=\"text-align: right;\">\n",
       "      <th></th>\n",
       "      <th>murder_2016</th>\n",
       "      <th>suicide_2016</th>\n",
       "    </tr>\n",
       "    <tr>\n",
       "      <th>country</th>\n",
       "      <th></th>\n",
       "      <th></th>\n",
       "    </tr>\n",
       "  </thead>\n",
       "  <tbody>\n",
       "    <tr>\n",
       "      <th>Armenia</th>\n",
       "      <td>1.010</td>\n",
       "      <td>1.85</td>\n",
       "    </tr>\n",
       "    <tr>\n",
       "      <th>Austria</th>\n",
       "      <td>0.417</td>\n",
       "      <td>9.75</td>\n",
       "    </tr>\n",
       "    <tr>\n",
       "      <th>Cyprus</th>\n",
       "      <td>1.230</td>\n",
       "      <td>3.75</td>\n",
       "    </tr>\n",
       "    <tr>\n",
       "      <th>Czech Republic</th>\n",
       "      <td>0.467</td>\n",
       "      <td>10.00</td>\n",
       "    </tr>\n",
       "    <tr>\n",
       "      <th>Croatia</th>\n",
       "      <td>1.000</td>\n",
       "      <td>11.40</td>\n",
       "    </tr>\n",
       "    <tr>\n",
       "      <th>Hungary</th>\n",
       "      <td>0.809</td>\n",
       "      <td>12.70</td>\n",
       "    </tr>\n",
       "    <tr>\n",
       "      <th>Iceland</th>\n",
       "      <td>0.246</td>\n",
       "      <td>11.20</td>\n",
       "    </tr>\n",
       "    <tr>\n",
       "      <th>Lithuania</th>\n",
       "      <td>3.050</td>\n",
       "      <td>22.90</td>\n",
       "    </tr>\n",
       "    <tr>\n",
       "      <th>Moldova</th>\n",
       "      <td>4.240</td>\n",
       "      <td>13.00</td>\n",
       "    </tr>\n",
       "    <tr>\n",
       "      <th>Mongolia</th>\n",
       "      <td>3.980</td>\n",
       "      <td>14.60</td>\n",
       "    </tr>\n",
       "    <tr>\n",
       "      <th>Mauritius</th>\n",
       "      <td>1.450</td>\n",
       "      <td>7.53</td>\n",
       "    </tr>\n",
       "    <tr>\n",
       "      <th>Netherlands</th>\n",
       "      <td>0.567</td>\n",
       "      <td>8.88</td>\n",
       "    </tr>\n",
       "    <tr>\n",
       "      <th>Romania</th>\n",
       "      <td>1.190</td>\n",
       "      <td>7.70</td>\n",
       "    </tr>\n",
       "    <tr>\n",
       "      <th>Thailand</th>\n",
       "      <td>2.580</td>\n",
       "      <td>5.54</td>\n",
       "    </tr>\n",
       "  </tbody>\n",
       "</table>\n",
       "</div>"
      ],
      "text/plain": [
       "                murder_2016  suicide_2016\n",
       "country                                  \n",
       "Armenia               1.010          1.85\n",
       "Austria               0.417          9.75\n",
       "Cyprus                1.230          3.75\n",
       "Czech Republic        0.467         10.00\n",
       "Croatia               1.000         11.40\n",
       "Hungary               0.809         12.70\n",
       "Iceland               0.246         11.20\n",
       "Lithuania             3.050         22.90\n",
       "Moldova               4.240         13.00\n",
       "Mongolia              3.980         14.60\n",
       "Mauritius             1.450          7.53\n",
       "Netherlands           0.567          8.88\n",
       "Romania               1.190          7.70\n",
       "Thailand              2.580          5.54"
      ]
     },
     "execution_count": 98,
     "metadata": {},
     "output_type": "execute_result"
    }
   ],
   "source": [
    "df_murder_suicide = df_murder_2016.merge(df_suicide_2016, on='country')\n",
    "df_murder_suicide.rename(columns={'2016_x':'murder_2016' , '2016_y':'suicide_2016'}, inplace=True)\n",
    "df_murder_suicide"
   ]
  },
  {
   "cell_type": "markdown",
   "metadata": {},
   "source": [
    "<a id='eda'></a>\n",
    "## Exploratory Data Analysis\n",
    "\n",
    "Since we have cleaned our data, let us try to extract some insights from the data we have in hands. I will start with finding if there is any relation between the murder and suicide rate then I will compare the two parameters with some of the factors that I believe might have a strong correlation with those parameters.\n",
    "\n",
    "One important insight we want to know is the average murder and suicide rate in 2016 across the world:"
   ]
  },
  {
   "cell_type": "code",
   "execution_count": 115,
   "metadata": {},
   "outputs": [
    {
     "name": "stdout",
     "output_type": "stream",
     "text": [
      "Average Murder Rate in 2016:  1.59\n",
      "\n",
      "Average Suicide Rate in 2016:  10.06\n"
     ]
    }
   ],
   "source": [
    "avg_murder = df_murder_suicide.murder_2016.mean()\n",
    "print(\"Average Murder Rate in 2016: \", round(avg_murder,2))\n",
    "\n",
    "avg_suicide = df_murder_suicide.suicide_2016.mean()\n",
    "print(\"\\nAverage Suicide Rate in 2016: \", round(avg_suicide,2))"
   ]
  },
  {
   "cell_type": "markdown",
   "metadata": {},
   "source": [
    "From the above calculations, we can see that the average suicide rate was 10.06 in 2016 which was pretty much higher than that of the murder rate 1.59. We need to explore the factors that contributed to high suicide rate in 2016 and which factors are affecting the murder rate as well.\n",
    "\n",
    "## Q1: What is the correlation betweeen income inequality and murder rate?"
   ]
  },
  {
   "cell_type": "code",
   "execution_count": 148,
   "metadata": {},
   "outputs": [
    {
     "data": {
      "image/png": "[encoded data removed]",
      "text/plain": [
       "<Figure size 432x288 with 2 Axes>"
      ]
     },
     "metadata": {
      "needs_background": "light"
     },
     "output_type": "display_data"
    }
   ],
   "source": [
    "#Plotting two histograms one for the Gini dataframe and other for the murder rate in 2016\n",
    "\n",
    "plt.subplot(1,2,1) #This is used to plot two histograms side by side\n",
    "plt.hist(df_gini_2016, color='skyblue', ec='skyblue')\n",
    "plt.xlabel('Income Inequality Index')\n",
    "plt.ylabel('Count')\n",
    "plt.title('Income Inequality Distribution')\n",
    "\n",
    "plt.subplot(1,2,2)\n",
    "plt.hist(df_murder_suicide.murder_2016, color='red', ec='red')\n",
    "plt.xlabel('Murder Rate age adjusted per 100k')\n",
    "plt.title('Murder Rate Distribution')\n",
    "plt.show();"
   ]
  },
  {
   "cell_type": "markdown",
   "metadata": {},
   "source": [
    "As per the histograms, it looks like the income inequality distribution is right skewed meaning that low income inequality is more typical in the available data. While for the murder rate distribution it looks like its aso right skewed. Now let us discover the correlation between the income inequality and the Murder rate."
   ]
  },
  {
   "cell_type": "code",
   "execution_count": 199,
   "metadata": {},
   "outputs": [
    {
     "data": {
      "image/png": "[encoded data removed]",
      "text/plain": [
       "<Figure size 432x288 with 1 Axes>"
      ]
     },
     "metadata": {
      "needs_background": "light"
     },
     "output_type": "display_data"
    }
   ],
   "source": [
    "#Merging Gini dataframe and Murder Rate dataframe\n",
    "df_gini_murder = df_gini_2016.merge(df_murder_2016, on='country')\n",
    "df_gini_murder.rename(columns={'2016_x':'gini_2016' , '2016_y':'murder_2016'}, inplace=True)\n",
    "df_gini_murder\n",
    "\n",
    "sns.regplot(y=df_gini_murder.gini_2016, x=df_gini_murder.murder_2016)\n",
    "plt.title('Murder Rate Vs Income Inequality')\n",
    "plt.ylabel('Income Inequality Index')\n",
    "plt.xlabel('Murder Rate age adjusted per 100k');"
   ]
  },
  {
   "cell_type": "markdown",
   "metadata": {},
   "source": [
    "#### As per the scatter plot and the regression line, it looks like there is a positive relationship between the income inequality and the murder rate back in 2016. This means that income  inequality leads to higher murder rate in countries.\n",
    "\n",
    "But why don't we discover the relationship with the Suicide rate as well?"
   ]
  },
  {
   "cell_type": "markdown",
   "metadata": {},
   "source": [
    "### Suicide Rate Vs Income Inequality\n",
    "\n",
    "I will start by plotting the Suicide Rate distribution to understand the data better."
   ]
  },
  {
   "cell_type": "code",
   "execution_count": 213,
   "metadata": {},
   "outputs": [
    {
     "data": {
      "image/png": "[encoded data removed]",
      "text/plain": [
       "<Figure size 432x288 with 1 Axes>"
      ]
     },
     "metadata": {
      "needs_background": "light"
     },
     "output_type": "display_data"
    }
   ],
   "source": [
    "#Plotting Suicide rate distribution in 2016\n",
    "plt.hist(df_murder_suicide.suicide_2016, color='red', ec='red')\n",
    "plt.xlabel('Suicide Rate age adjusted per 100k')\n",
    "plt.ylabel('Count')\n",
    "plt.title('Suicide Rate Distribution');\n"
   ]
  },
  {
   "cell_type": "markdown",
   "metadata": {},
   "source": [
    "As per the histogram the Suicide rate has almost normal distribution for the data we have.\n",
    "Let's discover the correlation between the Suicide Rate and the Income Inequality:"
   ]
  },
  {
   "cell_type": "code",
   "execution_count": 204,
   "metadata": {},
   "outputs": [
    {
     "data": {
      "text/html": [
       "<div>\n",
       "<style scoped>\n",
       "    .dataframe tbody tr th:only-of-type {\n",
       "        vertical-align: middle;\n",
       "    }\n",
       "\n",
       "    .dataframe tbody tr th {\n",
       "        vertical-align: top;\n",
       "    }\n",
       "\n",
       "    .dataframe thead th {\n",
       "        text-align: right;\n",
       "    }\n",
       "</style>\n",
       "<table border=\"1\" class=\"dataframe\">\n",
       "  <thead>\n",
       "    <tr style=\"text-align: right;\">\n",
       "      <th></th>\n",
       "      <th>gini_2016</th>\n",
       "      <th>suicide_2016</th>\n",
       "    </tr>\n",
       "  </thead>\n",
       "  <tbody>\n",
       "    <tr>\n",
       "      <th>gini_2016</th>\n",
       "      <td>1.000000</td>\n",
       "      <td>0.039799</td>\n",
       "    </tr>\n",
       "    <tr>\n",
       "      <th>suicide_2016</th>\n",
       "      <td>0.039799</td>\n",
       "      <td>1.000000</td>\n",
       "    </tr>\n",
       "  </tbody>\n",
       "</table>\n",
       "</div>"
      ],
      "text/plain": [
       "              gini_2016  suicide_2016\n",
       "gini_2016      1.000000      0.039799\n",
       "suicide_2016   0.039799      1.000000"
      ]
     },
     "execution_count": 204,
     "metadata": {},
     "output_type": "execute_result"
    },
    {
     "data": {
      "image/png": "[encoded data removed]",
      "text/plain": [
       "<Figure size 432x288 with 1 Axes>"
      ]
     },
     "metadata": {
      "needs_background": "light"
     },
     "output_type": "display_data"
    }
   ],
   "source": [
    "#Merging Gini dataframe and Suicide Rate dataframe\n",
    "df_gini_suicide = df_gini_2016.merge(df_suicide_2016, on='country')\n",
    "df_gini_suicide.rename(columns={'2016_x':'gini_2016' , '2016_y':'suicide_2016'}, inplace=True)\n",
    "\n",
    "#Scatter plot for Suicide Rate Vs Income Inequality\n",
    "sns.regplot(y=df_gini_suicide.gini_2016, x=df_gini_suicide.suicide_2016)\n",
    "plt.ylabel(\"Income Inequality Index\")\n",
    "plt.xlabel(\"Suicide Rate age adjusted per 100k\")\n",
    "plt.title(\"Suicide Rate Vs Income Inequality\");\n",
    "df_gini_suicide.corr()"
   ]
  },
  {
   "cell_type": "markdown",
   "metadata": {},
   "source": [
    "#### As per the scatter plot it shows that there is a very small positive correlation between suicide rate and the income inequality. It is not necessary that the income inequality ratio affects the suicide rate the way it affects the murder rate."
   ]
  },
  {
   "cell_type": "markdown",
   "metadata": {},
   "source": [
    "## Q2: What is the impact of unemployment rate in terms of suicide rate and murder rate?"
   ]
  },
  {
   "cell_type": "code",
   "execution_count": 180,
   "metadata": {},
   "outputs": [
    {
     "data": {
      "text/html": [
       "<div>\n",
       "<style scoped>\n",
       "    .dataframe tbody tr th:only-of-type {\n",
       "        vertical-align: middle;\n",
       "    }\n",
       "\n",
       "    .dataframe tbody tr th {\n",
       "        vertical-align: top;\n",
       "    }\n",
       "\n",
       "    .dataframe thead th {\n",
       "        text-align: right;\n",
       "    }\n",
       "</style>\n",
       "<table border=\"1\" class=\"dataframe\">\n",
       "  <thead>\n",
       "    <tr style=\"text-align: right;\">\n",
       "      <th></th>\n",
       "      <th>unemployment_2016</th>\n",
       "      <th>murder_2016</th>\n",
       "      <th>suicide_2016</th>\n",
       "    </tr>\n",
       "    <tr>\n",
       "      <th>country</th>\n",
       "      <th></th>\n",
       "      <th></th>\n",
       "      <th></th>\n",
       "    </tr>\n",
       "  </thead>\n",
       "  <tbody>\n",
       "    <tr>\n",
       "      <th>Armenia</th>\n",
       "      <td>16.80</td>\n",
       "      <td>1.010</td>\n",
       "      <td>1.85</td>\n",
       "    </tr>\n",
       "    <tr>\n",
       "      <th>Austria</th>\n",
       "      <td>5.42</td>\n",
       "      <td>0.417</td>\n",
       "      <td>9.75</td>\n",
       "    </tr>\n",
       "    <tr>\n",
       "      <th>Cyprus</th>\n",
       "      <td>11.70</td>\n",
       "      <td>1.230</td>\n",
       "      <td>3.75</td>\n",
       "    </tr>\n",
       "    <tr>\n",
       "      <th>Czech Republic</th>\n",
       "      <td>3.54</td>\n",
       "      <td>0.467</td>\n",
       "      <td>10.00</td>\n",
       "    </tr>\n",
       "    <tr>\n",
       "      <th>Croatia</th>\n",
       "      <td>11.60</td>\n",
       "      <td>1.000</td>\n",
       "      <td>11.40</td>\n",
       "    </tr>\n",
       "    <tr>\n",
       "      <th>Hungary</th>\n",
       "      <td>4.53</td>\n",
       "      <td>0.809</td>\n",
       "      <td>12.70</td>\n",
       "    </tr>\n",
       "    <tr>\n",
       "      <th>Iceland</th>\n",
       "      <td>2.48</td>\n",
       "      <td>0.246</td>\n",
       "      <td>11.20</td>\n",
       "    </tr>\n",
       "    <tr>\n",
       "      <th>Lithuania</th>\n",
       "      <td>7.39</td>\n",
       "      <td>3.050</td>\n",
       "      <td>22.90</td>\n",
       "    </tr>\n",
       "    <tr>\n",
       "      <th>Moldova</th>\n",
       "      <td>4.04</td>\n",
       "      <td>4.240</td>\n",
       "      <td>13.00</td>\n",
       "    </tr>\n",
       "    <tr>\n",
       "      <th>Mongolia</th>\n",
       "      <td>6.20</td>\n",
       "      <td>3.980</td>\n",
       "      <td>14.60</td>\n",
       "    </tr>\n",
       "    <tr>\n",
       "      <th>Mauritius</th>\n",
       "      <td>4.93</td>\n",
       "      <td>1.450</td>\n",
       "      <td>7.53</td>\n",
       "    </tr>\n",
       "    <tr>\n",
       "      <th>Netherlands</th>\n",
       "      <td>4.62</td>\n",
       "      <td>0.567</td>\n",
       "      <td>8.88</td>\n",
       "    </tr>\n",
       "    <tr>\n",
       "      <th>Romania</th>\n",
       "      <td>5.30</td>\n",
       "      <td>1.190</td>\n",
       "      <td>7.70</td>\n",
       "    </tr>\n",
       "    <tr>\n",
       "      <th>Thailand</th>\n",
       "      <td>0.41</td>\n",
       "      <td>2.580</td>\n",
       "      <td>5.54</td>\n",
       "    </tr>\n",
       "  </tbody>\n",
       "</table>\n",
       "</div>"
      ],
      "text/plain": [
       "                unemployment_2016  murder_2016  suicide_2016\n",
       "country                                                     \n",
       "Armenia                     16.80        1.010          1.85\n",
       "Austria                      5.42        0.417          9.75\n",
       "Cyprus                      11.70        1.230          3.75\n",
       "Czech Republic               3.54        0.467         10.00\n",
       "Croatia                     11.60        1.000         11.40\n",
       "Hungary                      4.53        0.809         12.70\n",
       "Iceland                      2.48        0.246         11.20\n",
       "Lithuania                    7.39        3.050         22.90\n",
       "Moldova                      4.04        4.240         13.00\n",
       "Mongolia                     6.20        3.980         14.60\n",
       "Mauritius                    4.93        1.450          7.53\n",
       "Netherlands                  4.62        0.567          8.88\n",
       "Romania                      5.30        1.190          7.70\n",
       "Thailand                     0.41        2.580          5.54"
      ]
     },
     "execution_count": 180,
     "metadata": {},
     "output_type": "execute_result"
    }
   ],
   "source": [
    "#Merging Unemployment rate with the murder/suicide rate dataframe\n",
    "df_unempl_sm = df_unemployment_2016.merge(df_murder_suicide, on='country')\n",
    "df_unempl_sm.rename(columns={'2016':'unemployment_2016'},inplace=True)"
   ]
  },
  {
   "cell_type": "markdown",
   "metadata": {},
   "source": [
    "### Unemployment Rate Distribution"
   ]
  },
  {
   "cell_type": "code",
   "execution_count": 215,
   "metadata": {},
   "outputs": [
    {
     "data": {
      "image/png": "[encoded data removed]",
      "text/plain": [
       "<Figure size 432x288 with 1 Axes>"
      ]
     },
     "metadata": {
      "needs_background": "light"
     },
     "output_type": "display_data"
    }
   ],
   "source": [
    "#Plotting unemployment rate distribution in 2016\n",
    "plt.hist(df_unemployment_2016, color='skyblue', ec='skyblue')\n",
    "plt.xlabel('Unemployment Rate for age group 25-54')\n",
    "plt.ylabel('Count')\n",
    "plt.title('Unemployment Rate Distribution');"
   ]
  },
  {
   "cell_type": "markdown",
   "metadata": {},
   "source": [
    "Unemployment rate distribution has a right-skew which indicates low unemployment rate is more typical for our data."
   ]
  },
  {
   "cell_type": "markdown",
   "metadata": {},
   "source": [
    "### Unemployment Rate Vs Suicide Rate Correlation"
   ]
  },
  {
   "cell_type": "code",
   "execution_count": 203,
   "metadata": {},
   "outputs": [
    {
     "data": {
      "image/png": "[encoded data removed]",
      "text/plain": [
       "<Figure size 432x288 with 1 Axes>"
      ]
     },
     "metadata": {
      "needs_background": "light"
     },
     "output_type": "display_data"
    }
   ],
   "source": [
    "#Scatter plot to demonstrate the impact of unemployment on countries\n",
    "sns.regplot(x=df_unempl_sm.unemployment_2016, y=df_unempl_sm.suicide_2016)\n",
    "plt.xlabel(\"Unemplyment Rate for age group 25-54\")\n",
    "plt.ylabel(\"Suicide Rate age adjusted per 100k\")\n",
    "plt.title(\"Suicide Rate Vs Unemployment Rate\");"
   ]
  },
  {
   "cell_type": "markdown",
   "metadata": {},
   "source": [
    "#### It is clear that there is a negative correlation between the suicide rate and the unemployment which means that countries with lower unemployment rate has higher suicide rates.\n",
    "\n",
    "### Unemployment Rate Vs Murder Rate"
   ]
  },
  {
   "cell_type": "code",
   "execution_count": 209,
   "metadata": {},
   "outputs": [
    {
     "data": {
      "image/png": "[encoded data removed]",
      "text/plain": [
       "<Figure size 432x288 with 1 Axes>"
      ]
     },
     "metadata": {
      "needs_background": "light"
     },
     "output_type": "display_data"
    }
   ],
   "source": [
    "#Scatter plot for murder rate vs unemployment rate\n",
    "sns.regplot(x=df_unempl_sm.unemployment_2016, y=df_unempl_sm.murder_2016)\n",
    "plt.xlabel(\"Unemplyment Rate for age group 25-54\")\n",
    "plt.ylabel(\"Murder Rate age adjusted per 100k\")\n",
    "plt.title(\"Murder Rate Vs Unemployment Rate\");"
   ]
  },
  {
   "cell_type": "markdown",
   "metadata": {},
   "source": [
    "#### Same goes for the murder rate, there is a negative correlation between the unemployment rate and the murder rate which means that countries with lower unemployment rate might have higher murder rate.\n",
    "\n",
    "Let us do a combined scatter plot for both murder and suicide rate against the unemployment rate:"
   ]
  },
  {
   "cell_type": "code",
   "execution_count": 214,
   "metadata": {},
   "outputs": [
    {
     "data": {
      "text/html": [
       "<div>\n",
       "<style scoped>\n",
       "    .dataframe tbody tr th:only-of-type {\n",
       "        vertical-align: middle;\n",
       "    }\n",
       "\n",
       "    .dataframe tbody tr th {\n",
       "        vertical-align: top;\n",
       "    }\n",
       "\n",
       "    .dataframe thead th {\n",
       "        text-align: right;\n",
       "    }\n",
       "</style>\n",
       "<table border=\"1\" class=\"dataframe\">\n",
       "  <thead>\n",
       "    <tr style=\"text-align: right;\">\n",
       "      <th></th>\n",
       "      <th>unemployment_2016</th>\n",
       "      <th>murder_2016</th>\n",
       "      <th>suicide_2016</th>\n",
       "    </tr>\n",
       "  </thead>\n",
       "  <tbody>\n",
       "    <tr>\n",
       "      <th>unemployment_2016</th>\n",
       "      <td>1.000000</td>\n",
       "      <td>-0.116764</td>\n",
       "      <td>-0.279253</td>\n",
       "    </tr>\n",
       "    <tr>\n",
       "      <th>murder_2016</th>\n",
       "      <td>-0.116764</td>\n",
       "      <td>1.000000</td>\n",
       "      <td>0.432562</td>\n",
       "    </tr>\n",
       "    <tr>\n",
       "      <th>suicide_2016</th>\n",
       "      <td>-0.279253</td>\n",
       "      <td>0.432562</td>\n",
       "      <td>1.000000</td>\n",
       "    </tr>\n",
       "  </tbody>\n",
       "</table>\n",
       "</div>"
      ],
      "text/plain": [
       "                   unemployment_2016  murder_2016  suicide_2016\n",
       "unemployment_2016           1.000000    -0.116764     -0.279253\n",
       "murder_2016                -0.116764     1.000000      0.432562\n",
       "suicide_2016               -0.279253     0.432562      1.000000"
      ]
     },
     "execution_count": 214,
     "metadata": {},
     "output_type": "execute_result"
    },
    {
     "data": {
      "image/png": "[encoded data removed]",
      "text/plain": [
       "<Figure size 432x288 with 1 Axes>"
      ]
     },
     "metadata": {
      "needs_background": "light"
     },
     "output_type": "display_data"
    }
   ],
   "source": [
    "plt.scatter(x=df_unempl_sm.unemployment_2016, y=df_unempl_sm.suicide_2016, label='Suicide Rate')\n",
    "plt.scatter(x=df_unempl_sm.unemployment_2016, y=df_unempl_sm.murder_2016, label='Murder Rate')\n",
    "plt.title(\"Unemployment Rate Vs Murder/Suicide Rate\")\n",
    "plt.xlabel(\"Unemplyment Rate for age group 25-54\")\n",
    "plt.ylabel(\"Murder/Suicide Rate\")\n",
    "plt.legend();\n",
    "df_unempl_sm.corr()"
   ]
  },
  {
   "cell_type": "markdown",
   "metadata": {},
   "source": [
    "## Q3: Which countries are more likely to have high Murder/Suicide Rate in terms of GDP?"
   ]
  },
  {
   "cell_type": "code",
   "execution_count": 270,
   "metadata": {},
   "outputs": [],
   "source": [
    "#Merging the GDP per Capita with murder/suicide rate\n",
    "df_gdp_sm = df_gdp_2016.merge(df_murder_suicide, on='country')\n",
    "df_gdp_sm.rename(columns={'2016':'GDP_2016'}, inplace=True)"
   ]
  },
  {
   "cell_type": "markdown",
   "metadata": {},
   "source": [
    "I will plot a combined scatter plot to identify the relationship between the GDP and murder/suicide Rate."
   ]
  },
  {
   "cell_type": "code",
   "execution_count": 271,
   "metadata": {},
   "outputs": [
    {
     "data": {
      "text/html": [
       "<div>\n",
       "<style scoped>\n",
       "    .dataframe tbody tr th:only-of-type {\n",
       "        vertical-align: middle;\n",
       "    }\n",
       "\n",
       "    .dataframe tbody tr th {\n",
       "        vertical-align: top;\n",
       "    }\n",
       "\n",
       "    .dataframe thead th {\n",
       "        text-align: right;\n",
       "    }\n",
       "</style>\n",
       "<table border=\"1\" class=\"dataframe\">\n",
       "  <thead>\n",
       "    <tr style=\"text-align: right;\">\n",
       "      <th></th>\n",
       "      <th>GDP_2016</th>\n",
       "      <th>murder_2016</th>\n",
       "      <th>suicide_2016</th>\n",
       "    </tr>\n",
       "  </thead>\n",
       "  <tbody>\n",
       "    <tr>\n",
       "      <th>GDP_2016</th>\n",
       "      <td>1.000000</td>\n",
       "      <td>-0.610539</td>\n",
       "      <td>0.001796</td>\n",
       "    </tr>\n",
       "    <tr>\n",
       "      <th>murder_2016</th>\n",
       "      <td>-0.610539</td>\n",
       "      <td>1.000000</td>\n",
       "      <td>0.432562</td>\n",
       "    </tr>\n",
       "    <tr>\n",
       "      <th>suicide_2016</th>\n",
       "      <td>0.001796</td>\n",
       "      <td>0.432562</td>\n",
       "      <td>1.000000</td>\n",
       "    </tr>\n",
       "  </tbody>\n",
       "</table>\n",
       "</div>"
      ],
      "text/plain": [
       "              GDP_2016  murder_2016  suicide_2016\n",
       "GDP_2016      1.000000    -0.610539      0.001796\n",
       "murder_2016  -0.610539     1.000000      0.432562\n",
       "suicide_2016  0.001796     0.432562      1.000000"
      ]
     },
     "execution_count": 271,
     "metadata": {},
     "output_type": "execute_result"
    },
    {
     "data": {
      "image/png": "[encoded data removed]",
      "text/plain": [
       "<Figure size 432x288 with 1 Axes>"
      ]
     },
     "metadata": {
      "needs_background": "light"
     },
     "output_type": "display_data"
    }
   ],
   "source": [
    "#Scatter plot for GDP vs Murder/Suicide Rate\n",
    "plt.scatter(x=df_gdp_sm.GDP_2016, y=df_gdp_sm.suicide_2016, label='Suicide Rate')\n",
    "plt.scatter(x=df_gdp_sm.GDP_2016, y=df_gdp_sm.murder_2016, label='Murder Rate')\n",
    "plt.title(\"GDP Per Capita Vs Murder/Suicide Rate\")\n",
    "plt.xlabel(\"GDP per Capita USD, Inflation Adjusted\")\n",
    "plt.ylabel(\"Murder/Suicide Rate\")\n",
    "plt.legend();\n",
    "df_gdp_sm.corr()"
   ]
  },
  {
   "cell_type": "markdown",
   "metadata": {},
   "source": [
    "### GDP Vs Murder Rate"
   ]
  },
  {
   "cell_type": "code",
   "execution_count": 273,
   "metadata": {},
   "outputs": [
    {
     "data": {
      "image/png": "[encoded data removed]",
      "text/plain": [
       "<Figure size 432x288 with 1 Axes>"
      ]
     },
     "metadata": {
      "needs_background": "light"
     },
     "output_type": "display_data"
    }
   ],
   "source": [
    "#Scatter plot for GDP Vs Murder rate\n",
    "sns.regplot(x=df_gdp_sm.GDP_2016, y=df_gdp_sm.murder_2016)\n",
    "plt.title(\"GDP Per Capita Vs Murder Rate\")\n",
    "plt.xlabel(\"GDP per Capita USD, Inflation Adjusted\")\n",
    "plt.ylabel(\"Murder Rate\");"
   ]
  },
  {
   "cell_type": "markdown",
   "metadata": {},
   "source": [
    "#### There is a negative correlation between the GDP per capita and the murder rate which indicates that lower GDP countries tend to have higher murder rate.\n",
    "\n",
    "### GDP Vs Suicide Rate"
   ]
  },
  {
   "cell_type": "code",
   "execution_count": 274,
   "metadata": {},
   "outputs": [
    {
     "data": {
      "image/png": "[encoded data removed]",
      "text/plain": [
       "<Figure size 432x288 with 1 Axes>"
      ]
     },
     "metadata": {
      "needs_background": "light"
     },
     "output_type": "display_data"
    }
   ],
   "source": [
    "#Scatter plot for GDP Vs Suicide Rate\n",
    "sns.regplot(x=df_gdp_sm.GDP_2016, y=df_gdp_sm.suicide_2016)\n",
    "plt.title(\"GDP Per Capita Vs Suicide Rate\")\n",
    "plt.xlabel(\"GDP per Capita USD, Inflation Adjusted\")\n",
    "plt.ylabel(\"Suicide Rate\");"
   ]
  },
  {
   "cell_type": "markdown",
   "metadata": {},
   "source": [
    "#### As per the scatter plot, it looks like there is almost neutral correlation between the GDP and the suicide rate. This means the GDP per capita has no impact on the suicide rate but as an overall, lower GDP countries tend to have higher murder rate."
   ]
  },
  {
   "cell_type": "markdown",
   "metadata": {},
   "source": [
    "\n",
    "\n",
    "<a id='conclusions'></a>\n",
    "## Conclusions\n",
    "\n",
    "By exploring of data in Year 2016 it appeared that:\n",
    "- Worldwide average Murder rate is higher than average suicide rate for year 2016.\n",
    "- Income inequality has a positive relationship with murder rate and a very small positive relationship with the suicide rate which indicates higher income inequality countries tend to have higher murder/suicide rate.\n",
    "- Unemployment has negative relationshop with both murder and suicide rates which means that higher unemployment countries tend to have slightly lower murder/suicide rate.\n",
    "- Higher murder rates are found in low GDP/Capita countries while we cannot identify the impact of GDP on suicide rate because there is almost no correlation or a very small positive correlation.\n",
    "\n",
    "#### Important Note\n",
    "The above observations come from investigating data from one year for specific parameters, the result might be slightly different for other years or for other parameters"
   ]
  }
 ],
 "metadata": {
  "kernelspec": {
   "display_name": "Python 3 (ipykernel)",
   "language": "python",
   "name": "python3"
  },
  "language_info": {
   "codemirror_mode": {
    "name": "ipython",
    "version": 3
   },
   "file_extension": ".py",
   "mimetype": "text/x-python",
   "name": "python",
   "nbconvert_exporter": "python",
   "pygments_lexer": "ipython3",
   "version": "3.9.12"
  }
 },
 "nbformat": 4,
 "nbformat_minor": 2
}
